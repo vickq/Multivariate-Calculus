{
 "cells": [
  {
   "cell_type": "code",
   "execution_count": 1,
   "metadata": {},
   "outputs": [
    {
     "ename": "ModuleNotFoundError",
     "evalue": "No module named 'readonly'",
     "output_type": "error",
     "traceback": [
      "\u001b[1;31m---------------------------------------------------------------------------\u001b[0m",
      "\u001b[1;31mModuleNotFoundError\u001b[0m                       Traceback (most recent call last)",
      "\u001b[1;32m<ipython-input-1-ea9c2a8a4b5c>\u001b[0m in \u001b[0;36m<module>\u001b[1;34m\u001b[0m\n\u001b[0;32m      1\u001b[0m \u001b[1;31m# Run this cell first to load the dependancies for this assessment,\u001b[0m\u001b[1;33m\u001b[0m\u001b[1;33m\u001b[0m\u001b[1;33m\u001b[0m\u001b[0m\n\u001b[0;32m      2\u001b[0m \u001b[1;31m# and generate the first figure.\u001b[0m\u001b[1;33m\u001b[0m\u001b[1;33m\u001b[0m\u001b[1;33m\u001b[0m\u001b[0m\n\u001b[1;32m----> 3\u001b[1;33m \u001b[1;32mfrom\u001b[0m \u001b[0mreadonly\u001b[0m\u001b[1;33m.\u001b[0m\u001b[0mHeightsModule\u001b[0m \u001b[1;32mimport\u001b[0m \u001b[1;33m*\u001b[0m\u001b[1;33m\u001b[0m\u001b[1;33m\u001b[0m\u001b[0m\n\u001b[0m",
      "\u001b[1;31mModuleNotFoundError\u001b[0m: No module named 'readonly'"
     ]
    }
   ],
   "source": [
    "# Run this cell first to load the dependancies for this assessment,\n",
    "# and generate the first figure.\n",
    "\n",
    "\n",
    "# Ejecute esta celda primero para cargar las dependencias para esta evaluación,\n",
    "# y genera la primera figura.\n",
    "\n",
    "from readonly.HeightsModule import *"
   ]
  },
  {
   "cell_type": "code",
   "execution_count": 7,
   "metadata": {},
   "outputs": [],
   "source": [
    "# PACKAGE\n",
    "import matplotlib.pyplot as plt\n",
    "import numpy as np"
   ]
  },
  {
   "cell_type": "code",
   "execution_count": 8,
   "metadata": {},
   "outputs": [],
   "source": [
    "# GRADED FUNCTION\n",
    "\n",
    "# This is the Gaussian function. / función gaussiana\n",
    "\n",
    "def f (x,mu,sig) :\n",
    "    return np.exp(-(x-mu)**2/(2*sig**2)) / np.sqrt(2*np.pi) / sig\n",
    "\n",
    "# Next up, the derivative with respect to μ.\n",
    "# If you wish, you may want to express this as f(x, mu, sig) multiplied by chain rule terms.\n",
    "\n",
    "\n",
    "# A continuación, la derivada con respecto a μ.\n",
    "# Si lo desea, puede expresar esto como f (x, mu, sig) multiplicado por términos de reglas de cadena.\n",
    "\n",
    "\n",
    "# === COMPLETE THIS FUNCTION === (resuelto)\n",
    "\n",
    "\n",
    "\n",
    "def dfdmu (x,mu,sig) :\n",
    "    return f(x, mu, sig) * ((x-mu)/np.square(sig))\n",
    "\n",
    "# Finally in this cell, the derivative with respect to σ. / Finalmente en esta celda, la derivada con respecto a σ.\n",
    "# === COMPLETE THIS FUNCTION === (resuelto)\n",
    "\n",
    "\n",
    "def dfdsig (x,mu,sig) :\n",
    "    \n",
    "    return f(x, mu, sig) * (-(1/sig)+(np.square(x-mu)/np.power(sig, 3)))"
   ]
  },
  {
   "cell_type": "code",
   "execution_count": 9,
   "metadata": {},
   "outputs": [],
   "source": [
    "# GRADED FUNCTION\n",
    "\n",
    "# Complete the expression for the Jacobian, the first term is done for you.\n",
    "# Implement the second.\n",
    "\n",
    "\n",
    "# Completa la expresión para el jacobiano, el primer término ya está hecho.\n",
    "# Implementar el segundo.\n",
    "\n",
    "# === COMPLETE THIS FUNCTION === (resuelto)\n",
    "\n",
    "\n",
    "\n",
    "def steepest_step (x, y, mu, sig, aggression) :\n",
    "    J = np.array([\n",
    "        -2*(y - f(x,mu,sig)) @ dfdmu(x,mu,sig),\n",
    "        -2*(y - f(x,mu,sig)) @ dfdsig(x,mu,sig), # Replace the ??? with the second element of the Jacobian.\n",
    "    ])\n",
    "    step = -J * aggression\n",
    "    return step"
   ]
  },
  {
   "cell_type": "code",
   "execution_count": 1,
   "metadata": {},
   "outputs": [
    {
     "ename": "NameError",
     "evalue": "name 'heights_data' is not defined",
     "output_type": "error",
     "traceback": [
      "\u001b[1;31m---------------------------------------------------------------------------\u001b[0m",
      "\u001b[1;31mNameError\u001b[0m                                 Traceback (most recent call last)",
      "\u001b[1;32m<ipython-input-1-bb9cc0a706a9>\u001b[0m in \u001b[0;36m<module>\u001b[1;34m\u001b[0m\n\u001b[0;32m      1\u001b[0m \u001b[1;31m# First get the heights data, ranges and frequencies./ Primero obtenga los datos de alturas, rangos y frecuencias.\u001b[0m\u001b[1;33m\u001b[0m\u001b[1;33m\u001b[0m\u001b[1;33m\u001b[0m\u001b[0m\n\u001b[1;32m----> 2\u001b[1;33m \u001b[0mx\u001b[0m\u001b[1;33m,\u001b[0m\u001b[0my\u001b[0m \u001b[1;33m=\u001b[0m \u001b[0mheights_data\u001b[0m\u001b[1;33m(\u001b[0m\u001b[1;33m)\u001b[0m\u001b[1;33m\u001b[0m\u001b[1;33m\u001b[0m\u001b[0m\n\u001b[0m\u001b[0;32m      3\u001b[0m \u001b[1;33m\u001b[0m\u001b[0m\n\u001b[0;32m      4\u001b[0m \u001b[1;31m# Next we'll assign trial values for these./ A continuación, asignaremos valores de prueba para estos.\u001b[0m\u001b[1;33m\u001b[0m\u001b[1;33m\u001b[0m\u001b[1;33m\u001b[0m\u001b[0m\n\u001b[0;32m      5\u001b[0m \u001b[1;33m\u001b[0m\u001b[0m\n",
      "\u001b[1;31mNameError\u001b[0m: name 'heights_data' is not defined"
     ]
    }
   ],
   "source": [
    "# First get the heights data, ranges and frequencies./ Primero obtenga los datos de alturas, rangos y frecuencias.\n",
    "x,y = heights_data()\n",
    "\n",
    "# Next we'll assign trial values for these./ A continuación, asignaremos valores de prueba para estos.\n",
    "\n",
    "mu = 155 ; sig = 6\n",
    "\n",
    "# We'll keep a track of these so we can plot their evolution./ Mantendremos un seguimiento de estas para trazar su evolución.\n",
    "\n",
    "p = np.array([[mu, sig]])\n",
    "\n",
    "# Plot the histogram for our parameter guess./ Trace el histograma para nuestra estimación de parámetros.\n",
    "\n",
    "histogram(f, [mu, sig])\n",
    "\n",
    "# Do a few rounds of steepest descent./ Haz algunas rondas de descenso más empinado.\n",
    "\n",
    "for i in range(50) :\n",
    "    dmu, dsig = steepest_step(x, y, mu, sig, 2000)\n",
    "    mu += dmu\n",
    "    sig += dsig\n",
    "    p = np.append(p, [[mu,sig]], axis=0)\n",
    "    \n",
    "# Plot the path through parameter space./ Trace la ruta a través del espacio de parámetros.\n",
    "\n",
    "contour(f, p)\n",
    "\n",
    "# Plot the final histogram./ histograma final.\n",
    "\n",
    "histogram(f, [mu, sig])"
   ]
  }
 ],
 "metadata": {
  "kernelspec": {
   "display_name": "Python 3",
   "language": "python",
   "name": "python3"
  },
  "language_info": {
   "codemirror_mode": {
    "name": "ipython",
    "version": 3
   },
   "file_extension": ".py",
   "mimetype": "text/x-python",
   "name": "python",
   "nbconvert_exporter": "python",
   "pygments_lexer": "ipython3",
   "version": "3.8.3"
  }
 },
 "nbformat": 4,
 "nbformat_minor": 4
}
